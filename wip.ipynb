{
 "cells": [
  {
   "cell_type": "code",
   "execution_count": 10,
   "metadata": {},
   "outputs": [],
   "source": [
    "import pickle\n",
    "import pandas as pd\n",
    "import numpy as np"
   ]
  },
  {
   "cell_type": "code",
   "execution_count": 14,
   "metadata": {},
   "outputs": [],
   "source": [
    "with open('price_model.pkl', 'rb') as f:\n",
    "    model = pickle.load(f)"
   ]
  },
  {
   "cell_type": "code",
   "execution_count": null,
   "metadata": {},
   "outputs": [],
   "source": []
  },
  {
   "cell_type": "code",
   "execution_count": 18,
   "metadata": {},
   "outputs": [],
   "source": [
    "def make_prediction(LotFrontageSF, LotAreaSF, BldgType, HouseStyle,\n",
    "                   OverallQual, OverallCond, YearBuilt, YearRemodAdd,\n",
    "                   RoofStyle, RoofMaterial, ExterQual, ExterCond,\n",
    "                   Foundation, BsmtQual, BsmtCond, BsmtFinSF, TotalBsmtSF,\n",
    "                   Heating, HeatingQC, CentralAir, FirstFlrSF, SecondFlrSF,\n",
    "                   GrLivArea, GarageType, GarageYrBlt, GarageCars, GarageSF,\n",
    "                   GarageQual, WoodDeckSF, OpenPorchSF, MiscFeature):\n",
    "    \n",
    "    input_data = pd.DataFrame({'LotFrontageSF': [LotFrontageSF], 'LotAreaSF': [LotAreaSF], 'BldgType': [BldgType], 'HouseStyle': [HouseStyle],\n",
    "                   'OverallQual': [OverallQual], 'OverallCond': [OverallCond], 'YearBuilt': [YearBuilt], 'YearRemodAdd': [YearRemodAdd],\n",
    "                   'RoofStyle': [RoofStyle], 'RoofMaterial': [RoofMaterial], 'ExterQual': [ExterQual], 'ExterCond': [ExterCond],\n",
    "                   'Foundation': [Foundation], 'BsmtQual': [BsmtQual], 'BsmtCond': [BsmtCond], 'BsmtFinSF': [BsmtFinSF], 'TotalBsmtSF': [TotalBsmtSF],\n",
    "                   'Heating': [Heating], 'HeatingQC': [HeatingQC], 'CentralAir': [CentralAir], 'FirstFlrSF': [FirstFlrSF], 'SecondFlrSF': [SecondFlrSF],\n",
    "                   'GrLivArea': [GrLivArea], 'GarageType': [GarageType], 'GarageYrBlt': [GarageYrBlt], 'GarageCars': [GarageCars], 'GarageSF': [GarageSF],\n",
    "                   'GarageQual': [GarageQual], 'WoodDeckSF': [WoodDeckSF], 'OpenPorchSF': [OpenPorchSF], 'MiscFeature': [MiscFeature]})\n",
    "\n",
    "    make_prediction = model.predict(input_data)\n",
    "\n",
    "    return make_prediction[0]"
   ]
  },
  {
   "cell_type": "code",
   "execution_count": 19,
   "metadata": {},
   "outputs": [
    {
     "ename": "ValueError",
     "evalue": "The feature names should match those that were passed during fit.\nFeature names unseen at fit time:\n- BldgType\n- Foundation\n- GarageType\n- Heating\n- HouseStyle\n- ...\nFeature names seen at fit time, yet now missing:\n- BldgType_Duplex\n- BldgType_Single Family Detached\n- BldgType_Townhouse\n- BldgType_Townhouse End Unit\n- BldgType_Two Family Conversion\n- ...\n",
     "output_type": "error",
     "traceback": [
      "\u001b[1;31m---------------------------------------------------------------------------\u001b[0m",
      "\u001b[1;31mValueError\u001b[0m                                Traceback (most recent call last)",
      "Cell \u001b[1;32mIn[19], line 1\u001b[0m\n\u001b[1;32m----> 1\u001b[0m \u001b[43mmake_prediction\u001b[49m\u001b[43m(\u001b[49m\u001b[38;5;241;43m1000\u001b[39;49m\u001b[43m,\u001b[49m\u001b[38;5;241;43m70\u001b[39;49m\u001b[43m,\u001b[49m\u001b[38;5;124;43m'\u001b[39;49m\u001b[38;5;124;43mSingle Family Detached\u001b[39;49m\u001b[38;5;124;43m'\u001b[39;49m\u001b[43m,\u001b[49m\u001b[38;5;124;43m'\u001b[39;49m\u001b[38;5;124;43m1 Story\u001b[39;49m\u001b[38;5;124;43m'\u001b[39;49m\u001b[43m,\u001b[49m\u001b[38;5;241;43m8\u001b[39;49m\u001b[43m,\u001b[49m\u001b[38;5;241;43m8\u001b[39;49m\u001b[43m,\u001b[49m\u001b[38;5;241;43m1989\u001b[39;49m\u001b[43m,\u001b[49m\u001b[38;5;241;43m1999\u001b[39;49m\u001b[43m,\u001b[49m\u001b[38;5;124;43m'\u001b[39;49m\u001b[38;5;124;43mGable\u001b[39;49m\u001b[38;5;124;43m'\u001b[39;49m\u001b[43m,\u001b[49m\u001b[38;5;124;43m'\u001b[39;49m\u001b[38;5;124;43mStandard Composite Shingle\u001b[39;49m\u001b[38;5;124;43m'\u001b[39;49m\u001b[43m,\u001b[49m\u001b[38;5;241;43m7\u001b[39;49m\u001b[43m,\u001b[49m\u001b[38;5;241;43m6\u001b[39;49m\u001b[43m,\u001b[49m\u001b[38;5;124;43m'\u001b[39;49m\u001b[38;5;124;43mSlab\u001b[39;49m\u001b[38;5;124;43m'\u001b[39;49m\u001b[43m,\u001b[49m\u001b[38;5;241;43m5\u001b[39;49m\u001b[43m,\u001b[49m\u001b[38;5;241;43m5\u001b[39;49m\u001b[43m,\u001b[49m\u001b[38;5;241;43m500\u001b[39;49m\u001b[43m,\u001b[49m\u001b[38;5;241;43m920\u001b[39;49m\u001b[43m,\u001b[49m\u001b[38;5;124;43m'\u001b[39;49m\u001b[38;5;124;43mGasA\u001b[39;49m\u001b[38;5;124;43m'\u001b[39;49m\u001b[43m,\u001b[49m\u001b[38;5;241;43m7\u001b[39;49m\u001b[43m,\u001b[49m\u001b[38;5;241;43m1\u001b[39;49m\u001b[43m,\u001b[49m\u001b[38;5;241;43m856\u001b[39;49m\u001b[43m,\u001b[49m\u001b[38;5;241;43m854\u001b[39;49m\u001b[43m,\u001b[49m\u001b[38;5;241;43m1700\u001b[39;49m\u001b[43m,\u001b[49m\u001b[38;5;124;43m'\u001b[39;49m\u001b[38;5;124;43mAttached\u001b[39;49m\u001b[38;5;124;43m'\u001b[39;49m\u001b[43m,\u001b[49m\u001b[38;5;241;43m1989\u001b[39;49m\u001b[43m,\u001b[49m\u001b[38;5;241;43m2\u001b[39;49m\u001b[43m,\u001b[49m\u001b[38;5;241;43m600\u001b[39;49m\u001b[43m,\u001b[49m\u001b[38;5;241;43m8\u001b[39;49m\u001b[43m,\u001b[49m\u001b[38;5;241;43m0\u001b[39;49m\u001b[43m,\u001b[49m\u001b[38;5;241;43m30\u001b[39;49m\u001b[43m,\u001b[49m\u001b[38;5;124;43m'\u001b[39;49m\u001b[38;5;124;43mNone\u001b[39;49m\u001b[38;5;124;43m'\u001b[39;49m\u001b[43m)\u001b[49m\n",
      "Cell \u001b[1;32mIn[18], line 17\u001b[0m, in \u001b[0;36mmake_prediction\u001b[1;34m(LotFrontageSF, LotAreaSF, BldgType, HouseStyle, OverallQual, OverallCond, YearBuilt, YearRemodAdd, RoofStyle, RoofMaterial, ExterQual, ExterCond, Foundation, BsmtQual, BsmtCond, BsmtFinSF, TotalBsmtSF, Heating, HeatingQC, CentralAir, FirstFlrSF, SecondFlrSF, GrLivArea, GarageType, GarageYrBlt, GarageCars, GarageSF, GarageQual, WoodDeckSF, OpenPorchSF, MiscFeature)\u001b[0m\n\u001b[0;32m      1\u001b[0m \u001b[38;5;28;01mdef\u001b[39;00m \u001b[38;5;21mmake_prediction\u001b[39m(LotFrontageSF, LotAreaSF, BldgType, HouseStyle,\n\u001b[0;32m      2\u001b[0m                    OverallQual, OverallCond, YearBuilt, YearRemodAdd,\n\u001b[0;32m      3\u001b[0m                    RoofStyle, RoofMaterial, ExterQual, ExterCond,\n\u001b[1;32m   (...)\u001b[0m\n\u001b[0;32m      6\u001b[0m                    GrLivArea, GarageType, GarageYrBlt, GarageCars, GarageSF,\n\u001b[0;32m      7\u001b[0m                    GarageQual, WoodDeckSF, OpenPorchSF, MiscFeature):\n\u001b[0;32m      9\u001b[0m     input_data \u001b[38;5;241m=\u001b[39m pd\u001b[38;5;241m.\u001b[39mDataFrame({\u001b[38;5;124m'\u001b[39m\u001b[38;5;124mLotFrontageSF\u001b[39m\u001b[38;5;124m'\u001b[39m: [LotFrontageSF], \u001b[38;5;124m'\u001b[39m\u001b[38;5;124mLotAreaSF\u001b[39m\u001b[38;5;124m'\u001b[39m: [LotAreaSF], \u001b[38;5;124m'\u001b[39m\u001b[38;5;124mBldgType\u001b[39m\u001b[38;5;124m'\u001b[39m: [BldgType], \u001b[38;5;124m'\u001b[39m\u001b[38;5;124mHouseStyle\u001b[39m\u001b[38;5;124m'\u001b[39m: [HouseStyle],\n\u001b[0;32m     10\u001b[0m                    \u001b[38;5;124m'\u001b[39m\u001b[38;5;124mOverallQual\u001b[39m\u001b[38;5;124m'\u001b[39m: [OverallQual], \u001b[38;5;124m'\u001b[39m\u001b[38;5;124mOverallCond\u001b[39m\u001b[38;5;124m'\u001b[39m: [OverallCond], \u001b[38;5;124m'\u001b[39m\u001b[38;5;124mYearBuilt\u001b[39m\u001b[38;5;124m'\u001b[39m: [YearBuilt], \u001b[38;5;124m'\u001b[39m\u001b[38;5;124mYearRemodAdd\u001b[39m\u001b[38;5;124m'\u001b[39m: [YearRemodAdd],\n\u001b[0;32m     11\u001b[0m                    \u001b[38;5;124m'\u001b[39m\u001b[38;5;124mRoofStyle\u001b[39m\u001b[38;5;124m'\u001b[39m: [RoofStyle], \u001b[38;5;124m'\u001b[39m\u001b[38;5;124mRoofMaterial\u001b[39m\u001b[38;5;124m'\u001b[39m: [RoofMaterial], \u001b[38;5;124m'\u001b[39m\u001b[38;5;124mExterQual\u001b[39m\u001b[38;5;124m'\u001b[39m: [ExterQual], \u001b[38;5;124m'\u001b[39m\u001b[38;5;124mExterCond\u001b[39m\u001b[38;5;124m'\u001b[39m: [ExterCond],\n\u001b[1;32m   (...)\u001b[0m\n\u001b[0;32m     14\u001b[0m                    \u001b[38;5;124m'\u001b[39m\u001b[38;5;124mGrLivArea\u001b[39m\u001b[38;5;124m'\u001b[39m: [GrLivArea], \u001b[38;5;124m'\u001b[39m\u001b[38;5;124mGarageType\u001b[39m\u001b[38;5;124m'\u001b[39m: [GarageType], \u001b[38;5;124m'\u001b[39m\u001b[38;5;124mGarageYrBlt\u001b[39m\u001b[38;5;124m'\u001b[39m: [GarageYrBlt], \u001b[38;5;124m'\u001b[39m\u001b[38;5;124mGarageCars\u001b[39m\u001b[38;5;124m'\u001b[39m: [GarageCars], \u001b[38;5;124m'\u001b[39m\u001b[38;5;124mGarageSF\u001b[39m\u001b[38;5;124m'\u001b[39m: [GarageSF],\n\u001b[0;32m     15\u001b[0m                    \u001b[38;5;124m'\u001b[39m\u001b[38;5;124mGarageQual\u001b[39m\u001b[38;5;124m'\u001b[39m: [GarageQual], \u001b[38;5;124m'\u001b[39m\u001b[38;5;124mWoodDeckSF\u001b[39m\u001b[38;5;124m'\u001b[39m: [WoodDeckSF], \u001b[38;5;124m'\u001b[39m\u001b[38;5;124mOpenPorchSF\u001b[39m\u001b[38;5;124m'\u001b[39m: [OpenPorchSF], \u001b[38;5;124m'\u001b[39m\u001b[38;5;124mMiscFeature\u001b[39m\u001b[38;5;124m'\u001b[39m: [MiscFeature]})\n\u001b[1;32m---> 17\u001b[0m     make_prediction \u001b[38;5;241m=\u001b[39m \u001b[43mmodel\u001b[49m\u001b[38;5;241;43m.\u001b[39;49m\u001b[43mpredict\u001b[49m\u001b[43m(\u001b[49m\u001b[43minput_data\u001b[49m\u001b[43m)\u001b[49m\n\u001b[0;32m     19\u001b[0m     \u001b[38;5;28;01mreturn\u001b[39;00m make_prediction[\u001b[38;5;241m0\u001b[39m]\n",
      "File \u001b[1;32mc:\\Users\\joseg\\AppData\\Local\\Programs\\Python\\Python39\\lib\\site-packages\\sklearn\\ensemble\\_gb.py:1798\u001b[0m, in \u001b[0;36mGradientBoostingRegressor.predict\u001b[1;34m(self, X)\u001b[0m\n\u001b[0;32m   1783\u001b[0m \u001b[38;5;28;01mdef\u001b[39;00m \u001b[38;5;21mpredict\u001b[39m(\u001b[38;5;28mself\u001b[39m, X):\n\u001b[0;32m   1784\u001b[0m \u001b[38;5;250m    \u001b[39m\u001b[38;5;124;03m\"\"\"Predict regression target for X.\u001b[39;00m\n\u001b[0;32m   1785\u001b[0m \n\u001b[0;32m   1786\u001b[0m \u001b[38;5;124;03m    Parameters\u001b[39;00m\n\u001b[1;32m   (...)\u001b[0m\n\u001b[0;32m   1796\u001b[0m \u001b[38;5;124;03m        The predicted values.\u001b[39;00m\n\u001b[0;32m   1797\u001b[0m \u001b[38;5;124;03m    \"\"\"\u001b[39;00m\n\u001b[1;32m-> 1798\u001b[0m     X \u001b[38;5;241m=\u001b[39m \u001b[38;5;28;43mself\u001b[39;49m\u001b[38;5;241;43m.\u001b[39;49m\u001b[43m_validate_data\u001b[49m\u001b[43m(\u001b[49m\n\u001b[0;32m   1799\u001b[0m \u001b[43m        \u001b[49m\u001b[43mX\u001b[49m\u001b[43m,\u001b[49m\u001b[43m \u001b[49m\u001b[43mdtype\u001b[49m\u001b[38;5;241;43m=\u001b[39;49m\u001b[43mDTYPE\u001b[49m\u001b[43m,\u001b[49m\u001b[43m \u001b[49m\u001b[43morder\u001b[49m\u001b[38;5;241;43m=\u001b[39;49m\u001b[38;5;124;43m\"\u001b[39;49m\u001b[38;5;124;43mC\u001b[39;49m\u001b[38;5;124;43m\"\u001b[39;49m\u001b[43m,\u001b[49m\u001b[43m \u001b[49m\u001b[43maccept_sparse\u001b[49m\u001b[38;5;241;43m=\u001b[39;49m\u001b[38;5;124;43m\"\u001b[39;49m\u001b[38;5;124;43mcsr\u001b[39;49m\u001b[38;5;124;43m\"\u001b[39;49m\u001b[43m,\u001b[49m\u001b[43m \u001b[49m\u001b[43mreset\u001b[49m\u001b[38;5;241;43m=\u001b[39;49m\u001b[38;5;28;43;01mFalse\u001b[39;49;00m\n\u001b[0;32m   1800\u001b[0m \u001b[43m    \u001b[49m\u001b[43m)\u001b[49m\n\u001b[0;32m   1801\u001b[0m     \u001b[38;5;66;03m# In regression we can directly return the raw value from the trees.\u001b[39;00m\n\u001b[0;32m   1802\u001b[0m     \u001b[38;5;28;01mreturn\u001b[39;00m \u001b[38;5;28mself\u001b[39m\u001b[38;5;241m.\u001b[39m_raw_predict(X)\u001b[38;5;241m.\u001b[39mravel()\n",
      "File \u001b[1;32mc:\\Users\\joseg\\AppData\\Local\\Programs\\Python\\Python39\\lib\\site-packages\\sklearn\\base.py:548\u001b[0m, in \u001b[0;36mBaseEstimator._validate_data\u001b[1;34m(self, X, y, reset, validate_separately, **check_params)\u001b[0m\n\u001b[0;32m    483\u001b[0m \u001b[38;5;28;01mdef\u001b[39;00m \u001b[38;5;21m_validate_data\u001b[39m(\n\u001b[0;32m    484\u001b[0m     \u001b[38;5;28mself\u001b[39m,\n\u001b[0;32m    485\u001b[0m     X\u001b[38;5;241m=\u001b[39m\u001b[38;5;124m\"\u001b[39m\u001b[38;5;124mno_validation\u001b[39m\u001b[38;5;124m\"\u001b[39m,\n\u001b[1;32m   (...)\u001b[0m\n\u001b[0;32m    489\u001b[0m     \u001b[38;5;241m*\u001b[39m\u001b[38;5;241m*\u001b[39mcheck_params,\n\u001b[0;32m    490\u001b[0m ):\n\u001b[0;32m    491\u001b[0m \u001b[38;5;250m    \u001b[39m\u001b[38;5;124;03m\"\"\"Validate input data and set or check the `n_features_in_` attribute.\u001b[39;00m\n\u001b[0;32m    492\u001b[0m \n\u001b[0;32m    493\u001b[0m \u001b[38;5;124;03m    Parameters\u001b[39;00m\n\u001b[1;32m   (...)\u001b[0m\n\u001b[0;32m    546\u001b[0m \u001b[38;5;124;03m        validated.\u001b[39;00m\n\u001b[0;32m    547\u001b[0m \u001b[38;5;124;03m    \"\"\"\u001b[39;00m\n\u001b[1;32m--> 548\u001b[0m     \u001b[38;5;28;43mself\u001b[39;49m\u001b[38;5;241;43m.\u001b[39;49m\u001b[43m_check_feature_names\u001b[49m\u001b[43m(\u001b[49m\u001b[43mX\u001b[49m\u001b[43m,\u001b[49m\u001b[43m \u001b[49m\u001b[43mreset\u001b[49m\u001b[38;5;241;43m=\u001b[39;49m\u001b[43mreset\u001b[49m\u001b[43m)\u001b[49m\n\u001b[0;32m    550\u001b[0m     \u001b[38;5;28;01mif\u001b[39;00m y \u001b[38;5;129;01mis\u001b[39;00m \u001b[38;5;28;01mNone\u001b[39;00m \u001b[38;5;129;01mand\u001b[39;00m \u001b[38;5;28mself\u001b[39m\u001b[38;5;241m.\u001b[39m_get_tags()[\u001b[38;5;124m\"\u001b[39m\u001b[38;5;124mrequires_y\u001b[39m\u001b[38;5;124m\"\u001b[39m]:\n\u001b[0;32m    551\u001b[0m         \u001b[38;5;28;01mraise\u001b[39;00m \u001b[38;5;167;01mValueError\u001b[39;00m(\n\u001b[0;32m    552\u001b[0m             \u001b[38;5;124mf\u001b[39m\u001b[38;5;124m\"\u001b[39m\u001b[38;5;124mThis \u001b[39m\u001b[38;5;132;01m{\u001b[39;00m\u001b[38;5;28mself\u001b[39m\u001b[38;5;241m.\u001b[39m\u001b[38;5;18m__class__\u001b[39m\u001b[38;5;241m.\u001b[39m\u001b[38;5;18m__name__\u001b[39m\u001b[38;5;132;01m}\u001b[39;00m\u001b[38;5;124m estimator \u001b[39m\u001b[38;5;124m\"\u001b[39m\n\u001b[0;32m    553\u001b[0m             \u001b[38;5;124m\"\u001b[39m\u001b[38;5;124mrequires y to be passed, but the target y is None.\u001b[39m\u001b[38;5;124m\"\u001b[39m\n\u001b[0;32m    554\u001b[0m         )\n",
      "File \u001b[1;32mc:\\Users\\joseg\\AppData\\Local\\Programs\\Python\\Python39\\lib\\site-packages\\sklearn\\base.py:481\u001b[0m, in \u001b[0;36mBaseEstimator._check_feature_names\u001b[1;34m(self, X, reset)\u001b[0m\n\u001b[0;32m    476\u001b[0m \u001b[38;5;28;01mif\u001b[39;00m \u001b[38;5;129;01mnot\u001b[39;00m missing_names \u001b[38;5;129;01mand\u001b[39;00m \u001b[38;5;129;01mnot\u001b[39;00m unexpected_names:\n\u001b[0;32m    477\u001b[0m     message \u001b[38;5;241m+\u001b[39m\u001b[38;5;241m=\u001b[39m (\n\u001b[0;32m    478\u001b[0m         \u001b[38;5;124m\"\u001b[39m\u001b[38;5;124mFeature names must be in the same order as they were in fit.\u001b[39m\u001b[38;5;130;01m\\n\u001b[39;00m\u001b[38;5;124m\"\u001b[39m\n\u001b[0;32m    479\u001b[0m     )\n\u001b[1;32m--> 481\u001b[0m \u001b[38;5;28;01mraise\u001b[39;00m \u001b[38;5;167;01mValueError\u001b[39;00m(message)\n",
      "\u001b[1;31mValueError\u001b[0m: The feature names should match those that were passed during fit.\nFeature names unseen at fit time:\n- BldgType\n- Foundation\n- GarageType\n- Heating\n- HouseStyle\n- ...\nFeature names seen at fit time, yet now missing:\n- BldgType_Duplex\n- BldgType_Single Family Detached\n- BldgType_Townhouse\n- BldgType_Townhouse End Unit\n- BldgType_Two Family Conversion\n- ...\n"
     ]
    }
   ],
   "source": [
    "make_prediction(1000,70,'Single Family Detached','1 Story',8,8,1989,1999,'Gable','Standard Composite Shingle',7,6,'Slab',5,5,500,920,'GasA',7,1,856,854,1700,'Attached',1989,2,600,8,0,30,'None')"
   ]
  },
  {
   "cell_type": "code",
   "execution_count": null,
   "metadata": {},
   "outputs": [],
   "source": []
  },
  {
   "cell_type": "code",
   "execution_count": null,
   "metadata": {},
   "outputs": [],
   "source": []
  },
  {
   "cell_type": "code",
   "execution_count": null,
   "metadata": {},
   "outputs": [],
   "source": []
  }
 ],
 "metadata": {
  "kernelspec": {
   "display_name": "Python 3",
   "language": "python",
   "name": "python3"
  },
  "language_info": {
   "codemirror_mode": {
    "name": "ipython",
    "version": 3
   },
   "file_extension": ".py",
   "mimetype": "text/x-python",
   "name": "python",
   "nbconvert_exporter": "python",
   "pygments_lexer": "ipython3",
   "version": "3.9.9"
  }
 },
 "nbformat": 4,
 "nbformat_minor": 2
}
