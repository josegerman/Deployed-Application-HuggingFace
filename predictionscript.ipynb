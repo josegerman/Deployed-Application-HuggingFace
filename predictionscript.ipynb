{
 "cells": [
  {
   "cell_type": "code",
   "execution_count": 1,
   "metadata": {},
   "outputs": [],
   "source": [
    "import pandas as pd\n",
    "import numpy as np\n",
    "import pickle\n",
    "from sklearn.model_selection import RandomizedSearchCV, GridSearchCV, train_test_split\n",
    "from sklearn.ensemble import RandomForestRegressor, AdaBoostRegressor\n",
    "from sklearn.metrics import r2_score, mean_absolute_error, mean_squared_error\n",
    "from sklearn.preprocessing import LabelEncoder\n",
    "\n",
    "import warnings\n",
    "warnings.filterwarnings('ignore')"
   ]
  },
  {
   "cell_type": "code",
   "execution_count": 2,
   "metadata": {},
   "outputs": [],
   "source": [
    "# Load saved model\n",
    "\n",
    "with open('randomforestregressor_model.pkl', 'rb') as file1:\n",
    "    model1 = pickle.load(file1)"
   ]
  },
  {
   "cell_type": "code",
   "execution_count": 3,
   "metadata": {},
   "outputs": [],
   "source": [
    "# Load saved encoders\n",
    "\n",
    "with open('BldgType_le.pkl','rb') as f1:\n",
    "    BldgType_le = pickle.load(f1)"
   ]
  },
  {
   "cell_type": "code",
   "execution_count": 4,
   "metadata": {},
   "outputs": [],
   "source": [
    "# Load encoders\n",
    "\n",
    "with open('HouseStyle_le.pkl','rb') as f2:\n",
    "    HouseStyle_le = pickle.load(f2)"
   ]
  },
  {
   "cell_type": "code",
   "execution_count": 5,
   "metadata": {},
   "outputs": [],
   "source": [
    "# Load encoders\n",
    "\n",
    "with open('RoofStyle_le.pkl','rb') as f3:\n",
    "    RoofStyle_le = pickle.load(f3)"
   ]
  },
  {
   "cell_type": "code",
   "execution_count": 6,
   "metadata": {},
   "outputs": [],
   "source": [
    "# Save encoders\n",
    "\n",
    "with open('RoofMaterial_le.pkl','rb') as f4:\n",
    "    RoofMaterial_le = pickle.load(f4)"
   ]
  },
  {
   "cell_type": "code",
   "execution_count": 7,
   "metadata": {},
   "outputs": [],
   "source": [
    "# Load encoders\n",
    "\n",
    "with open('Foundation_le.pkl','rb') as f5:\n",
    "    Foundation_le = pickle.load(f5)"
   ]
  },
  {
   "cell_type": "code",
   "execution_count": 8,
   "metadata": {},
   "outputs": [],
   "source": [
    "# Load encoders\n",
    "\n",
    "with open('Heating_le.pkl','rb') as f6:\n",
    "    Heating_le = pickle.load(f6)"
   ]
  },
  {
   "cell_type": "code",
   "execution_count": 9,
   "metadata": {},
   "outputs": [],
   "source": [
    "# Load encoders\n",
    "\n",
    "with open('MiscFeature_le.pkl','rb') as f7:\n",
    "    MiscFeature_le = pickle.load(f7)"
   ]
  },
  {
   "cell_type": "code",
   "execution_count": 10,
   "metadata": {},
   "outputs": [],
   "source": [
    "# Load encoders\n",
    "\n",
    "with open('CentralAir_le.pkl','rb') as f8:\n",
    "    CentralAir_le = pickle.load(f8)"
   ]
  },
  {
   "cell_type": "code",
   "execution_count": 11,
   "metadata": {},
   "outputs": [],
   "source": [
    "# Load encoders\n",
    "\n",
    "with open('GarageType_le.pkl','rb') as f9:\n",
    "    GarageType_le = pickle.load(f9)"
   ]
  },
  {
   "cell_type": "code",
   "execution_count": 15,
   "metadata": {},
   "outputs": [],
   "source": [
    "# Define prediction function\n",
    "\n",
    "def predict_house_price(LotFrontageSF,LotAreaSF,OverallQual,OverallCond,YearBuilt,\n",
    "                        YearRemodAdd,ExterQual,ExterCond,BsmtQual,BsmtCond,\n",
    "                        BsmtFinSF,TotalBsmtSF,HeatingQC,FirstFlrSF,SecondFlrSF,\n",
    "                        GrLivArea,GarageYrBlt,GarageCars,GarageSF,GarageQual,\n",
    "                        WoodDeckSF,OpenPorchSF,BldgType,HouseStyle,RoofStyle,\n",
    "                        RoofMaterial,Foundation,Heating,MiscFeature,CentralAir,\n",
    "                        GarageType):\n",
    "    \n",
    "    BldgType_encoded = BldgType_le.transform([BldgType])[0]\n",
    "    HouseStyle_encoded = HouseStyle_le.transform([HouseStyle])[0]\n",
    "    RoofStyle_encoded = RoofStyle_le.transform([RoofStyle])[0]\n",
    "    RoofMaterial_encoded = RoofMaterial_le.transform([RoofMaterial])[0]\n",
    "    Foundation_encoded = Foundation_le.transform([Foundation])[0]\n",
    "    Heating_encoded = Heating_le.transform([Heating])[0]\n",
    "    MiscFeature_encoded = MiscFeature_le.transform([MiscFeature])[0]\n",
    "    CentralAir_encoded = CentralAir_le.transform([CentralAir])[0]\n",
    "    GarageType_encoded = GarageType_le.transform([GarageType])[0]\n",
    "    \n",
    "    \n",
    "\n",
    "    input_data = pd.DataFrame({'LotFrontageSF': [LotFrontageSF], 'LotAreaSF': [LotAreaSF], 'OverallQual': [OverallQual], 'OverallCond': [OverallCond], 'YearBuilt': [YearBuilt],\n",
    "                               'YearRemodAdd': [YearRemodAdd], 'ExterQual': [ExterQual], 'ExterCond': [ExterCond], 'BsmtQual': [BsmtQual], 'BsmtCond': [BsmtCond],\n",
    "                               'BsmtFinSF': [BsmtFinSF], 'TotalBsmtSF': [TotalBsmtSF], 'HeatingQC': [HeatingQC],  'FirstFlrSF': [FirstFlrSF], 'SecondFlrSF': [SecondFlrSF],\n",
    "                               'GrLivArea': [GrLivArea],  'GarageYrBlt': [GarageYrBlt], 'GarageCars': [GarageCars], 'GarageSF': [GarageSF], 'GarageQual': [GarageQual],\n",
    "                               'WoodDeckSF': [WoodDeckSF], 'OpenPorchSF': [OpenPorchSF], 'BldgType_Encoded': [BldgType_encoded], 'HouseStyle_Encoded': [HouseStyle_encoded], 'RoofStyle_Encoded': [RoofStyle_encoded],\n",
    "                               'RoofMaterial_Encoded': [RoofMaterial_encoded], 'Foundation_Encoded': [Foundation_encoded], 'Heating_Encoded': [Heating_encoded], 'MiscFeature_Encoded': [MiscFeature_encoded], 'CentralAir_Encoded': [CentralAir_encoded],\n",
    "                               'GarageType_Encoded': [GarageType_encoded]})\n",
    "    \n",
    "    predict_house_price = model1.predict(input_data)\n",
    "\n",
    "    return predict_house_price[0]\n",
    "\n",
    "# 'LotFrontageSF','LotAreaSF','OverallQual','OverallCond','YearBuilt','YearRemodAdd','ExterQual','ExterCond','BsmtQual','BsmtCond','BsmtFinSF','TotalBsmtSF','HeatingQC','FirstFlrSF','SecondFlrSF','GrLivArea','GarageYrBlt','GarageCars','GarageSF','GarageQual','WoodDeckSF','OpenPorchSF','BldgType_Encoded','HouseStyle_Encoded','RoofStyle_Encoded','RoofMaterial_Encoded','Foundation_Encoded','Heating_Encoded','MiscFeature_Encoded','CentralAir_Encoded','GarageType_Encoded'\n",
    "    "
   ]
  },
  {
   "cell_type": "code",
   "execution_count": 19,
   "metadata": {},
   "outputs": [
    {
     "data": {
      "text/plain": [
       "241195.42"
      ]
     },
     "execution_count": 19,
     "metadata": {},
     "output_type": "execute_result"
    }
   ],
   "source": [
    "# Predict\n",
    "predict_house_price(1000,70,8,8,1989,1999,7,6,5,5,500,920,7,856,854,1700,1989,2,600,8,0,30,'Single Family Detached','1 Story','Gable','Standard Composite Shingle','Slab','GasA','None','Yes','Attached')"
   ]
  },
  {
   "cell_type": "code",
   "execution_count": 20,
   "metadata": {},
   "outputs": [
    {
     "data": {
      "text/plain": [
       "208759.0"
      ]
     },
     "execution_count": 20,
     "metadata": {},
     "output_type": "execute_result"
    }
   ],
   "source": [
    "# Row1 in dataset; House price = 20850\n",
    "# 65\t8450\tSingle Family Detached\t2 Story\t7\t5\t2003\t2003\tGable\tStandard Composite Shingle\t4\t3\tPoured Concrete\t4\t3\t706\t856\tGasA\t5\tYes\t856\t854\t1710\tAttached\t2003\t2\t548\t3\t0\t61\tNone\t208500\n",
    "\n",
    "predict_house_price(65,8450,7,5,2003,2003,4,3,4,3,706,856,5,856,854,1710,2003,2,548,3,0,61,'Single Family Detached','2 Story','Gable','Standard Composite Shingle','Poured Concrete','GasA','None','Yes','Attached')"
   ]
  },
  {
   "cell_type": "code",
   "execution_count": null,
   "metadata": {},
   "outputs": [],
   "source": []
  },
  {
   "cell_type": "code",
   "execution_count": null,
   "metadata": {},
   "outputs": [],
   "source": []
  }
 ],
 "metadata": {
  "kernelspec": {
   "display_name": "Python 3",
   "language": "python",
   "name": "python3"
  },
  "language_info": {
   "codemirror_mode": {
    "name": "ipython",
    "version": 3
   },
   "file_extension": ".py",
   "mimetype": "text/x-python",
   "name": "python",
   "nbconvert_exporter": "python",
   "pygments_lexer": "ipython3",
   "version": "3.9.9"
  }
 },
 "nbformat": 4,
 "nbformat_minor": 2
}
